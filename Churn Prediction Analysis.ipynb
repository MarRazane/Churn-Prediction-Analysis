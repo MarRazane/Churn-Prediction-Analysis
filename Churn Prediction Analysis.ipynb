{
  "nbformat": 4,
  "nbformat_minor": 0,
  "metadata": {
    "colab": {
      "name": "Untitled0.ipynb",
      "provenance": [],
      "authorship_tag": "ABX9TyMaWWXD1iVZ2e4dDbZW6PnL",
      "include_colab_link": true
    },
    "kernelspec": {
      "name": "python3",
      "display_name": "Python 3"
    },
    "language_info": {
      "name": "python"
    }
  },
  "cells": [
    {
      "cell_type": "markdown",
      "metadata": {
        "id": "view-in-github",
        "colab_type": "text"
      },
      "source": [
        "<a href=\"https://colab.research.google.com/github/MarRazane/MarRazane/blob/master/Churn%20Prediction%20Analysis.ipynb\" target=\"_parent\"><img src=\"https://colab.research.google.com/assets/colab-badge.svg\" alt=\"Open In Colab\"/></a>"
      ]
    },
    {
      "cell_type": "markdown",
      "source": [
        "# **Churn Prediction Analysis**"
      ],
      "metadata": {
        "id": "XPpnJoxMZUg2"
      }
    },
    {
      "cell_type": "markdown",
      "source": [
        "we are going to predict customer churn for a telecom company using the K-Nearest Neighbor algorithm."
      ],
      "metadata": {
        "id": "5iE3SlpLZZIN"
      }
    },
    {
      "cell_type": "markdown",
      "source": [
        "**Import python libraries**"
      ],
      "metadata": {
        "id": "6e8mj59waLjS"
      }
    },
    {
      "cell_type": "code",
      "execution_count": 39,
      "metadata": {
        "id": "-txYv6guZTTR"
      },
      "outputs": [],
      "source": [
        "import numpy as np\n",
        "import pandas as pd\n",
        "import matplotlib.pyplot as plt\n",
        "from sklearn.model_selection import train_test_split\n",
        "from sklearn.neighbors import KNeighborsClassifier\n",
        "from sklearn.metrics import accuracy_score\n",
        "from sklearn import metrics\n",
        "\n",
        "\n",
        "%matplotlib inline"
      ]
    },
    {
      "cell_type": "markdown",
      "source": [
        "***Upload the Data***"
      ],
      "metadata": {
        "id": "9dUqM2WUa9vZ"
      }
    },
    {
      "cell_type": "code",
      "source": [
        "dataset = pd.read_excel(r'/content/Churn.xlsx')\n",
        "#print(data)\n",
        "#print only the first 10 rows\n",
        "dt = dataset.head(10)\n",
        "print(dt)\n"
      ],
      "metadata": {
        "colab": {
          "base_uri": "https://localhost:8080/"
        },
        "id": "T-uhNVBpaWR2",
        "outputId": "a96d8e1a-d99c-4818-89c0-e8730a75d9e5"
      },
      "execution_count": 40,
      "outputs": [
        {
          "output_type": "stream",
          "name": "stdout",
          "text": [
            "   intl_plan  voice_mail_plan  number_vmail_messages  total_day_minutes  \\\n",
            "0        0.0              1.0                   25.0              265.1   \n",
            "1        0.0              1.0                   26.0              161.6   \n",
            "2        0.0              0.0                    0.0              243.4   \n",
            "3        1.0              0.0                    0.0              299.4   \n",
            "4        1.0              0.0                    0.0              166.7   \n",
            "5        1.0              0.0                    0.0                NaN   \n",
            "6        0.0              NaN                   24.0              218.2   \n",
            "7        1.0              0.0                    0.0              157.0   \n",
            "8        0.0              0.0                    0.0              184.5   \n",
            "9        1.0              1.0                   37.0              258.6   \n",
            "\n",
            "   total_day_calls  total_day_charge  total_eve_minutes  total_eve_calls  \\\n",
            "0            110.0             45.07              197.4             99.0   \n",
            "1            123.0             27.47              195.5            103.0   \n",
            "2            114.0             41.38              121.2              NaN   \n",
            "3              NaN             50.90               61.9             88.0   \n",
            "4            113.0             28.34              148.3            122.0   \n",
            "5             98.0             37.98              220.6            101.0   \n",
            "6             88.0               NaN              348.5            108.0   \n",
            "7             79.0             26.69              103.1             94.0   \n",
            "8             97.0             31.37              351.6             80.0   \n",
            "9             84.0             43.96              222.0            111.0   \n",
            "\n",
            "   total_eve_charge  total_night_minutes  total_night_calls  \\\n",
            "0             16.78                244.7               91.0   \n",
            "1             16.62                254.4              103.0   \n",
            "2             10.30                162.6              104.0   \n",
            "3              5.26                  NaN               89.0   \n",
            "4             12.61                186.9              121.0   \n",
            "5             18.75                203.9              118.0   \n",
            "6             29.62                212.6              118.0   \n",
            "7              8.76                211.8               96.0   \n",
            "8             29.89                215.8               90.0   \n",
            "9             18.87                326.4               97.0   \n",
            "\n",
            "   total_night_charge  total_intl_minutes  total_intl_calls  \\\n",
            "0               11.01                10.0               3.0   \n",
            "1                 NaN                 NaN               3.0   \n",
            "2                7.32                12.2               5.0   \n",
            "3                8.86                 6.6               7.0   \n",
            "4                8.41                10.1               3.0   \n",
            "5                9.18                 6.3               6.0   \n",
            "6                9.57                 7.5               7.0   \n",
            "7                9.53                 7.1               6.0   \n",
            "8                9.71                 8.7               4.0   \n",
            "9               14.69                11.2               5.0   \n",
            "\n",
            "   total_intl_charge  number_customer_service_calls  churned  \n",
            "0               2.70                            1.0    False  \n",
            "1               3.70                            1.0    False  \n",
            "2               3.29                            0.0    False  \n",
            "3               1.78                            2.0    False  \n",
            "4               2.73                            3.0    False  \n",
            "5               1.70                            0.0    False  \n",
            "6               2.03                            3.0    False  \n",
            "7               1.92                            0.0    False  \n",
            "8               2.35                            1.0    False  \n",
            "9                NaN                            NaN    False  \n"
          ]
        }
      ]
    },
    {
      "cell_type": "markdown",
      "source": [
        "***Number of user***"
      ],
      "metadata": {
        "id": "MbCQQmbKbYHU"
      }
    },
    {
      "cell_type": "code",
      "source": [
        "print(len(dataset['churned']))"
      ],
      "metadata": {
        "colab": {
          "base_uri": "https://localhost:8080/"
        },
        "id": "K28_YHEwaZsu",
        "outputId": "761fdf37-cf06-4633-8f16-9d85abd54848"
      },
      "execution_count": 41,
      "outputs": [
        {
          "output_type": "stream",
          "name": "stdout",
          "text": [
            "5000\n"
          ]
        }
      ]
    },
    {
      "cell_type": "code",
      "source": [
        "dataset.describe()"
      ],
      "metadata": {
        "colab": {
          "base_uri": "https://localhost:8080/",
          "height": 364
        },
        "id": "Ti1hN0RRacg7",
        "outputId": "20d5a5cd-fdc2-41cf-f341-b78e53831e42"
      },
      "execution_count": 42,
      "outputs": [
        {
          "output_type": "execute_result",
          "data": {
            "text/plain": [
              "         intl_plan  voice_mail_plan  number_vmail_messages  total_day_minutes  \\\n",
              "count  4815.000000      4597.000000            4839.000000        4630.000000   \n",
              "mean      0.095119         0.263215               7.753255         180.353024   \n",
              "std       0.293410         0.440426              13.525422          53.902352   \n",
              "min       0.000000         0.000000               0.000000           0.000000   \n",
              "25%       0.000000         0.000000               0.000000         143.700000   \n",
              "50%       0.000000         0.000000               0.000000         180.100000   \n",
              "75%       0.000000         1.000000              17.000000         216.275000   \n",
              "max       1.000000         1.000000              52.000000         351.500000   \n",
              "\n",
              "       total_day_calls  total_day_charge  total_eve_minutes  total_eve_calls  \\\n",
              "count      4621.000000       4663.000000        4894.000000      4565.000000   \n",
              "mean        100.102575         30.709348         200.652166       100.356407   \n",
              "std          19.819299          9.164254          50.513622        19.850245   \n",
              "min           0.000000          0.000000           0.000000         0.000000   \n",
              "25%          87.000000         24.430000         166.425000        87.000000   \n",
              "50%         100.000000         30.670000         201.000000       101.000000   \n",
              "75%         113.000000         36.860000         233.900000       114.000000   \n",
              "max         165.000000         59.760000         363.700000       170.000000   \n",
              "\n",
              "       total_eve_charge  total_night_minutes  total_night_calls  \\\n",
              "count       4624.000000          4537.000000        4822.000000   \n",
              "mean          17.047641           200.144523          99.960390   \n",
              "std            4.284928            50.936037          19.998369   \n",
              "min            0.000000             0.000000           0.000000   \n",
              "25%           14.157500           166.700000          87.000000   \n",
              "50%           17.060000           200.300000         100.000000   \n",
              "75%           19.860000           234.600000         113.000000   \n",
              "max           30.910000           395.000000         175.000000   \n",
              "\n",
              "       total_night_charge  total_intl_minutes  total_intl_calls  \\\n",
              "count         4904.000000         4691.000000       4680.000000   \n",
              "mean             9.015475           10.261224          4.432265   \n",
              "std              2.275332            2.760720          2.458918   \n",
              "min              0.000000            0.000000          0.000000   \n",
              "25%              7.510000            8.500000          3.000000   \n",
              "50%              9.020000           10.300000          4.000000   \n",
              "75%             10.540000           12.000000          6.000000   \n",
              "max             17.770000           20.000000         20.000000   \n",
              "\n",
              "       total_intl_charge  number_customer_service_calls  \n",
              "count        4697.000000                    4593.000000  \n",
              "mean            2.766934                       1.568909  \n",
              "std             0.745717                       1.303008  \n",
              "min             0.000000                       0.000000  \n",
              "25%             2.300000                       1.000000  \n",
              "50%             2.780000                       1.000000  \n",
              "75%             3.240000                       2.000000  \n",
              "max             5.400000                       9.000000  "
            ],
            "text/html": [
              "\n",
              "  <div id=\"df-ff1cf5eb-f683-43f4-a63f-d5cc4931c4d7\">\n",
              "    <div class=\"colab-df-container\">\n",
              "      <div>\n",
              "<style scoped>\n",
              "    .dataframe tbody tr th:only-of-type {\n",
              "        vertical-align: middle;\n",
              "    }\n",
              "\n",
              "    .dataframe tbody tr th {\n",
              "        vertical-align: top;\n",
              "    }\n",
              "\n",
              "    .dataframe thead th {\n",
              "        text-align: right;\n",
              "    }\n",
              "</style>\n",
              "<table border=\"1\" class=\"dataframe\">\n",
              "  <thead>\n",
              "    <tr style=\"text-align: right;\">\n",
              "      <th></th>\n",
              "      <th>intl_plan</th>\n",
              "      <th>voice_mail_plan</th>\n",
              "      <th>number_vmail_messages</th>\n",
              "      <th>total_day_minutes</th>\n",
              "      <th>total_day_calls</th>\n",
              "      <th>total_day_charge</th>\n",
              "      <th>total_eve_minutes</th>\n",
              "      <th>total_eve_calls</th>\n",
              "      <th>total_eve_charge</th>\n",
              "      <th>total_night_minutes</th>\n",
              "      <th>total_night_calls</th>\n",
              "      <th>total_night_charge</th>\n",
              "      <th>total_intl_minutes</th>\n",
              "      <th>total_intl_calls</th>\n",
              "      <th>total_intl_charge</th>\n",
              "      <th>number_customer_service_calls</th>\n",
              "    </tr>\n",
              "  </thead>\n",
              "  <tbody>\n",
              "    <tr>\n",
              "      <th>count</th>\n",
              "      <td>4815.000000</td>\n",
              "      <td>4597.000000</td>\n",
              "      <td>4839.000000</td>\n",
              "      <td>4630.000000</td>\n",
              "      <td>4621.000000</td>\n",
              "      <td>4663.000000</td>\n",
              "      <td>4894.000000</td>\n",
              "      <td>4565.000000</td>\n",
              "      <td>4624.000000</td>\n",
              "      <td>4537.000000</td>\n",
              "      <td>4822.000000</td>\n",
              "      <td>4904.000000</td>\n",
              "      <td>4691.000000</td>\n",
              "      <td>4680.000000</td>\n",
              "      <td>4697.000000</td>\n",
              "      <td>4593.000000</td>\n",
              "    </tr>\n",
              "    <tr>\n",
              "      <th>mean</th>\n",
              "      <td>0.095119</td>\n",
              "      <td>0.263215</td>\n",
              "      <td>7.753255</td>\n",
              "      <td>180.353024</td>\n",
              "      <td>100.102575</td>\n",
              "      <td>30.709348</td>\n",
              "      <td>200.652166</td>\n",
              "      <td>100.356407</td>\n",
              "      <td>17.047641</td>\n",
              "      <td>200.144523</td>\n",
              "      <td>99.960390</td>\n",
              "      <td>9.015475</td>\n",
              "      <td>10.261224</td>\n",
              "      <td>4.432265</td>\n",
              "      <td>2.766934</td>\n",
              "      <td>1.568909</td>\n",
              "    </tr>\n",
              "    <tr>\n",
              "      <th>std</th>\n",
              "      <td>0.293410</td>\n",
              "      <td>0.440426</td>\n",
              "      <td>13.525422</td>\n",
              "      <td>53.902352</td>\n",
              "      <td>19.819299</td>\n",
              "      <td>9.164254</td>\n",
              "      <td>50.513622</td>\n",
              "      <td>19.850245</td>\n",
              "      <td>4.284928</td>\n",
              "      <td>50.936037</td>\n",
              "      <td>19.998369</td>\n",
              "      <td>2.275332</td>\n",
              "      <td>2.760720</td>\n",
              "      <td>2.458918</td>\n",
              "      <td>0.745717</td>\n",
              "      <td>1.303008</td>\n",
              "    </tr>\n",
              "    <tr>\n",
              "      <th>min</th>\n",
              "      <td>0.000000</td>\n",
              "      <td>0.000000</td>\n",
              "      <td>0.000000</td>\n",
              "      <td>0.000000</td>\n",
              "      <td>0.000000</td>\n",
              "      <td>0.000000</td>\n",
              "      <td>0.000000</td>\n",
              "      <td>0.000000</td>\n",
              "      <td>0.000000</td>\n",
              "      <td>0.000000</td>\n",
              "      <td>0.000000</td>\n",
              "      <td>0.000000</td>\n",
              "      <td>0.000000</td>\n",
              "      <td>0.000000</td>\n",
              "      <td>0.000000</td>\n",
              "      <td>0.000000</td>\n",
              "    </tr>\n",
              "    <tr>\n",
              "      <th>25%</th>\n",
              "      <td>0.000000</td>\n",
              "      <td>0.000000</td>\n",
              "      <td>0.000000</td>\n",
              "      <td>143.700000</td>\n",
              "      <td>87.000000</td>\n",
              "      <td>24.430000</td>\n",
              "      <td>166.425000</td>\n",
              "      <td>87.000000</td>\n",
              "      <td>14.157500</td>\n",
              "      <td>166.700000</td>\n",
              "      <td>87.000000</td>\n",
              "      <td>7.510000</td>\n",
              "      <td>8.500000</td>\n",
              "      <td>3.000000</td>\n",
              "      <td>2.300000</td>\n",
              "      <td>1.000000</td>\n",
              "    </tr>\n",
              "    <tr>\n",
              "      <th>50%</th>\n",
              "      <td>0.000000</td>\n",
              "      <td>0.000000</td>\n",
              "      <td>0.000000</td>\n",
              "      <td>180.100000</td>\n",
              "      <td>100.000000</td>\n",
              "      <td>30.670000</td>\n",
              "      <td>201.000000</td>\n",
              "      <td>101.000000</td>\n",
              "      <td>17.060000</td>\n",
              "      <td>200.300000</td>\n",
              "      <td>100.000000</td>\n",
              "      <td>9.020000</td>\n",
              "      <td>10.300000</td>\n",
              "      <td>4.000000</td>\n",
              "      <td>2.780000</td>\n",
              "      <td>1.000000</td>\n",
              "    </tr>\n",
              "    <tr>\n",
              "      <th>75%</th>\n",
              "      <td>0.000000</td>\n",
              "      <td>1.000000</td>\n",
              "      <td>17.000000</td>\n",
              "      <td>216.275000</td>\n",
              "      <td>113.000000</td>\n",
              "      <td>36.860000</td>\n",
              "      <td>233.900000</td>\n",
              "      <td>114.000000</td>\n",
              "      <td>19.860000</td>\n",
              "      <td>234.600000</td>\n",
              "      <td>113.000000</td>\n",
              "      <td>10.540000</td>\n",
              "      <td>12.000000</td>\n",
              "      <td>6.000000</td>\n",
              "      <td>3.240000</td>\n",
              "      <td>2.000000</td>\n",
              "    </tr>\n",
              "    <tr>\n",
              "      <th>max</th>\n",
              "      <td>1.000000</td>\n",
              "      <td>1.000000</td>\n",
              "      <td>52.000000</td>\n",
              "      <td>351.500000</td>\n",
              "      <td>165.000000</td>\n",
              "      <td>59.760000</td>\n",
              "      <td>363.700000</td>\n",
              "      <td>170.000000</td>\n",
              "      <td>30.910000</td>\n",
              "      <td>395.000000</td>\n",
              "      <td>175.000000</td>\n",
              "      <td>17.770000</td>\n",
              "      <td>20.000000</td>\n",
              "      <td>20.000000</td>\n",
              "      <td>5.400000</td>\n",
              "      <td>9.000000</td>\n",
              "    </tr>\n",
              "  </tbody>\n",
              "</table>\n",
              "</div>\n",
              "      <button class=\"colab-df-convert\" onclick=\"convertToInteractive('df-ff1cf5eb-f683-43f4-a63f-d5cc4931c4d7')\"\n",
              "              title=\"Convert this dataframe to an interactive table.\"\n",
              "              style=\"display:none;\">\n",
              "        \n",
              "  <svg xmlns=\"http://www.w3.org/2000/svg\" height=\"24px\"viewBox=\"0 0 24 24\"\n",
              "       width=\"24px\">\n",
              "    <path d=\"M0 0h24v24H0V0z\" fill=\"none\"/>\n",
              "    <path d=\"M18.56 5.44l.94 2.06.94-2.06 2.06-.94-2.06-.94-.94-2.06-.94 2.06-2.06.94zm-11 1L8.5 8.5l.94-2.06 2.06-.94-2.06-.94L8.5 2.5l-.94 2.06-2.06.94zm10 10l.94 2.06.94-2.06 2.06-.94-2.06-.94-.94-2.06-.94 2.06-2.06.94z\"/><path d=\"M17.41 7.96l-1.37-1.37c-.4-.4-.92-.59-1.43-.59-.52 0-1.04.2-1.43.59L10.3 9.45l-7.72 7.72c-.78.78-.78 2.05 0 2.83L4 21.41c.39.39.9.59 1.41.59.51 0 1.02-.2 1.41-.59l7.78-7.78 2.81-2.81c.8-.78.8-2.07 0-2.86zM5.41 20L4 18.59l7.72-7.72 1.47 1.35L5.41 20z\"/>\n",
              "  </svg>\n",
              "      </button>\n",
              "      \n",
              "  <style>\n",
              "    .colab-df-container {\n",
              "      display:flex;\n",
              "      flex-wrap:wrap;\n",
              "      gap: 12px;\n",
              "    }\n",
              "\n",
              "    .colab-df-convert {\n",
              "      background-color: #E8F0FE;\n",
              "      border: none;\n",
              "      border-radius: 50%;\n",
              "      cursor: pointer;\n",
              "      display: none;\n",
              "      fill: #1967D2;\n",
              "      height: 32px;\n",
              "      padding: 0 0 0 0;\n",
              "      width: 32px;\n",
              "    }\n",
              "\n",
              "    .colab-df-convert:hover {\n",
              "      background-color: #E2EBFA;\n",
              "      box-shadow: 0px 1px 2px rgba(60, 64, 67, 0.3), 0px 1px 3px 1px rgba(60, 64, 67, 0.15);\n",
              "      fill: #174EA6;\n",
              "    }\n",
              "\n",
              "    [theme=dark] .colab-df-convert {\n",
              "      background-color: #3B4455;\n",
              "      fill: #D2E3FC;\n",
              "    }\n",
              "\n",
              "    [theme=dark] .colab-df-convert:hover {\n",
              "      background-color: #434B5C;\n",
              "      box-shadow: 0px 1px 3px 1px rgba(0, 0, 0, 0.15);\n",
              "      filter: drop-shadow(0px 1px 2px rgba(0, 0, 0, 0.3));\n",
              "      fill: #FFFFFF;\n",
              "    }\n",
              "  </style>\n",
              "\n",
              "      <script>\n",
              "        const buttonEl =\n",
              "          document.querySelector('#df-ff1cf5eb-f683-43f4-a63f-d5cc4931c4d7 button.colab-df-convert');\n",
              "        buttonEl.style.display =\n",
              "          google.colab.kernel.accessAllowed ? 'block' : 'none';\n",
              "\n",
              "        async function convertToInteractive(key) {\n",
              "          const element = document.querySelector('#df-ff1cf5eb-f683-43f4-a63f-d5cc4931c4d7');\n",
              "          const dataTable =\n",
              "            await google.colab.kernel.invokeFunction('convertToInteractive',\n",
              "                                                     [key], {});\n",
              "          if (!dataTable) return;\n",
              "\n",
              "          const docLinkHtml = 'Like what you see? Visit the ' +\n",
              "            '<a target=\"_blank\" href=https://colab.research.google.com/notebooks/data_table.ipynb>data table notebook</a>'\n",
              "            + ' to learn more about interactive tables.';\n",
              "          element.innerHTML = '';\n",
              "          dataTable['output_type'] = 'display_data';\n",
              "          await google.colab.output.renderOutput(dataTable, element);\n",
              "          const docLink = document.createElement('div');\n",
              "          docLink.innerHTML = docLinkHtml;\n",
              "          element.appendChild(docLink);\n",
              "        }\n",
              "      </script>\n",
              "    </div>\n",
              "  </div>\n",
              "  "
            ]
          },
          "metadata": {},
          "execution_count": 42
        }
      ]
    },
    {
      "cell_type": "markdown",
      "source": [
        "***Filiing the missing Values***"
      ],
      "metadata": {
        "id": "r82jk5FWbfqk"
      }
    },
    {
      "cell_type": "code",
      "source": [
        "dataset.fillna(dataset.mean(), inplace=True)"
      ],
      "metadata": {
        "id": "T4oWcHucaevx"
      },
      "execution_count": 43,
      "outputs": []
    },
    {
      "cell_type": "code",
      "source": [
        "dataset.describe()"
      ],
      "metadata": {
        "colab": {
          "base_uri": "https://localhost:8080/",
          "height": 364
        },
        "id": "z_RlmBiRajcV",
        "outputId": "8a18b725-2651-48e7-f3b4-dfd5c3212902"
      },
      "execution_count": 44,
      "outputs": [
        {
          "output_type": "execute_result",
          "data": {
            "text/plain": [
              "         intl_plan  voice_mail_plan  number_vmail_messages  total_day_minutes  \\\n",
              "count  5000.000000      5000.000000            5000.000000        5000.000000   \n",
              "mean      0.095119         0.263215               7.753255         180.353024   \n",
              "std       0.287930         0.422300              13.305837          51.869222   \n",
              "min       0.000000         0.000000               0.000000           0.000000   \n",
              "25%       0.000000         0.000000               0.000000         146.775000   \n",
              "50%       0.000000         0.000000               0.000000         180.353024   \n",
              "75%       0.000000         0.263215              14.000000         213.725000   \n",
              "max       1.000000         1.000000              52.000000         351.500000   \n",
              "\n",
              "       total_day_calls  total_day_charge  total_eve_minutes  total_eve_calls  \\\n",
              "count      5000.000000       5000.000000        5000.000000      5000.000000   \n",
              "mean        100.102575         30.709348         200.652166       100.356407   \n",
              "std          19.053191          8.849967          49.975201        18.966934   \n",
              "min           0.000000          0.000000           0.000000         0.000000   \n",
              "25%          88.000000         24.890000         167.200000        89.000000   \n",
              "50%         100.102575         30.709348         200.652166       100.356407   \n",
              "75%         112.000000         36.410000         233.200000       112.000000   \n",
              "max         165.000000         59.760000         363.700000       170.000000   \n",
              "\n",
              "       total_eve_charge  total_night_minutes  total_night_calls  \\\n",
              "count       5000.000000          5000.000000        5000.000000   \n",
              "mean          17.047641           200.144523          99.960390   \n",
              "std            4.120633            48.519923          19.639099   \n",
              "min            0.000000             0.000000           0.000000   \n",
              "25%           14.340000           170.200000          87.000000   \n",
              "50%           17.047641           200.144523          99.960390   \n",
              "75%           19.590000           229.900000         113.000000   \n",
              "max           30.910000           395.000000         175.000000   \n",
              "\n",
              "       total_night_charge  total_intl_minutes  total_intl_calls  \\\n",
              "count         5000.000000         5000.000000       5000.000000   \n",
              "mean             9.015475           10.261224          4.432265   \n",
              "std              2.253379            2.674035          2.378915   \n",
              "min              0.000000            0.000000          0.000000   \n",
              "25%              7.540000            8.700000          3.000000   \n",
              "50%              9.015475           10.261224          4.000000   \n",
              "75%             10.500000           11.900000          5.000000   \n",
              "max             17.770000           20.000000         20.000000   \n",
              "\n",
              "       total_intl_charge  number_customer_service_calls  \n",
              "count        5000.000000                    5000.000000  \n",
              "mean            2.766934                       1.568909  \n",
              "std             0.722764                       1.248839  \n",
              "min             0.000000                       0.000000  \n",
              "25%             2.350000                       1.000000  \n",
              "50%             2.766934                       1.000000  \n",
              "75%             3.210000                       2.000000  \n",
              "max             5.400000                       9.000000  "
            ],
            "text/html": [
              "\n",
              "  <div id=\"df-ce9e5f2c-b1ac-4ccb-ab24-bd69af277862\">\n",
              "    <div class=\"colab-df-container\">\n",
              "      <div>\n",
              "<style scoped>\n",
              "    .dataframe tbody tr th:only-of-type {\n",
              "        vertical-align: middle;\n",
              "    }\n",
              "\n",
              "    .dataframe tbody tr th {\n",
              "        vertical-align: top;\n",
              "    }\n",
              "\n",
              "    .dataframe thead th {\n",
              "        text-align: right;\n",
              "    }\n",
              "</style>\n",
              "<table border=\"1\" class=\"dataframe\">\n",
              "  <thead>\n",
              "    <tr style=\"text-align: right;\">\n",
              "      <th></th>\n",
              "      <th>intl_plan</th>\n",
              "      <th>voice_mail_plan</th>\n",
              "      <th>number_vmail_messages</th>\n",
              "      <th>total_day_minutes</th>\n",
              "      <th>total_day_calls</th>\n",
              "      <th>total_day_charge</th>\n",
              "      <th>total_eve_minutes</th>\n",
              "      <th>total_eve_calls</th>\n",
              "      <th>total_eve_charge</th>\n",
              "      <th>total_night_minutes</th>\n",
              "      <th>total_night_calls</th>\n",
              "      <th>total_night_charge</th>\n",
              "      <th>total_intl_minutes</th>\n",
              "      <th>total_intl_calls</th>\n",
              "      <th>total_intl_charge</th>\n",
              "      <th>number_customer_service_calls</th>\n",
              "    </tr>\n",
              "  </thead>\n",
              "  <tbody>\n",
              "    <tr>\n",
              "      <th>count</th>\n",
              "      <td>5000.000000</td>\n",
              "      <td>5000.000000</td>\n",
              "      <td>5000.000000</td>\n",
              "      <td>5000.000000</td>\n",
              "      <td>5000.000000</td>\n",
              "      <td>5000.000000</td>\n",
              "      <td>5000.000000</td>\n",
              "      <td>5000.000000</td>\n",
              "      <td>5000.000000</td>\n",
              "      <td>5000.000000</td>\n",
              "      <td>5000.000000</td>\n",
              "      <td>5000.000000</td>\n",
              "      <td>5000.000000</td>\n",
              "      <td>5000.000000</td>\n",
              "      <td>5000.000000</td>\n",
              "      <td>5000.000000</td>\n",
              "    </tr>\n",
              "    <tr>\n",
              "      <th>mean</th>\n",
              "      <td>0.095119</td>\n",
              "      <td>0.263215</td>\n",
              "      <td>7.753255</td>\n",
              "      <td>180.353024</td>\n",
              "      <td>100.102575</td>\n",
              "      <td>30.709348</td>\n",
              "      <td>200.652166</td>\n",
              "      <td>100.356407</td>\n",
              "      <td>17.047641</td>\n",
              "      <td>200.144523</td>\n",
              "      <td>99.960390</td>\n",
              "      <td>9.015475</td>\n",
              "      <td>10.261224</td>\n",
              "      <td>4.432265</td>\n",
              "      <td>2.766934</td>\n",
              "      <td>1.568909</td>\n",
              "    </tr>\n",
              "    <tr>\n",
              "      <th>std</th>\n",
              "      <td>0.287930</td>\n",
              "      <td>0.422300</td>\n",
              "      <td>13.305837</td>\n",
              "      <td>51.869222</td>\n",
              "      <td>19.053191</td>\n",
              "      <td>8.849967</td>\n",
              "      <td>49.975201</td>\n",
              "      <td>18.966934</td>\n",
              "      <td>4.120633</td>\n",
              "      <td>48.519923</td>\n",
              "      <td>19.639099</td>\n",
              "      <td>2.253379</td>\n",
              "      <td>2.674035</td>\n",
              "      <td>2.378915</td>\n",
              "      <td>0.722764</td>\n",
              "      <td>1.248839</td>\n",
              "    </tr>\n",
              "    <tr>\n",
              "      <th>min</th>\n",
              "      <td>0.000000</td>\n",
              "      <td>0.000000</td>\n",
              "      <td>0.000000</td>\n",
              "      <td>0.000000</td>\n",
              "      <td>0.000000</td>\n",
              "      <td>0.000000</td>\n",
              "      <td>0.000000</td>\n",
              "      <td>0.000000</td>\n",
              "      <td>0.000000</td>\n",
              "      <td>0.000000</td>\n",
              "      <td>0.000000</td>\n",
              "      <td>0.000000</td>\n",
              "      <td>0.000000</td>\n",
              "      <td>0.000000</td>\n",
              "      <td>0.000000</td>\n",
              "      <td>0.000000</td>\n",
              "    </tr>\n",
              "    <tr>\n",
              "      <th>25%</th>\n",
              "      <td>0.000000</td>\n",
              "      <td>0.000000</td>\n",
              "      <td>0.000000</td>\n",
              "      <td>146.775000</td>\n",
              "      <td>88.000000</td>\n",
              "      <td>24.890000</td>\n",
              "      <td>167.200000</td>\n",
              "      <td>89.000000</td>\n",
              "      <td>14.340000</td>\n",
              "      <td>170.200000</td>\n",
              "      <td>87.000000</td>\n",
              "      <td>7.540000</td>\n",
              "      <td>8.700000</td>\n",
              "      <td>3.000000</td>\n",
              "      <td>2.350000</td>\n",
              "      <td>1.000000</td>\n",
              "    </tr>\n",
              "    <tr>\n",
              "      <th>50%</th>\n",
              "      <td>0.000000</td>\n",
              "      <td>0.000000</td>\n",
              "      <td>0.000000</td>\n",
              "      <td>180.353024</td>\n",
              "      <td>100.102575</td>\n",
              "      <td>30.709348</td>\n",
              "      <td>200.652166</td>\n",
              "      <td>100.356407</td>\n",
              "      <td>17.047641</td>\n",
              "      <td>200.144523</td>\n",
              "      <td>99.960390</td>\n",
              "      <td>9.015475</td>\n",
              "      <td>10.261224</td>\n",
              "      <td>4.000000</td>\n",
              "      <td>2.766934</td>\n",
              "      <td>1.000000</td>\n",
              "    </tr>\n",
              "    <tr>\n",
              "      <th>75%</th>\n",
              "      <td>0.000000</td>\n",
              "      <td>0.263215</td>\n",
              "      <td>14.000000</td>\n",
              "      <td>213.725000</td>\n",
              "      <td>112.000000</td>\n",
              "      <td>36.410000</td>\n",
              "      <td>233.200000</td>\n",
              "      <td>112.000000</td>\n",
              "      <td>19.590000</td>\n",
              "      <td>229.900000</td>\n",
              "      <td>113.000000</td>\n",
              "      <td>10.500000</td>\n",
              "      <td>11.900000</td>\n",
              "      <td>5.000000</td>\n",
              "      <td>3.210000</td>\n",
              "      <td>2.000000</td>\n",
              "    </tr>\n",
              "    <tr>\n",
              "      <th>max</th>\n",
              "      <td>1.000000</td>\n",
              "      <td>1.000000</td>\n",
              "      <td>52.000000</td>\n",
              "      <td>351.500000</td>\n",
              "      <td>165.000000</td>\n",
              "      <td>59.760000</td>\n",
              "      <td>363.700000</td>\n",
              "      <td>170.000000</td>\n",
              "      <td>30.910000</td>\n",
              "      <td>395.000000</td>\n",
              "      <td>175.000000</td>\n",
              "      <td>17.770000</td>\n",
              "      <td>20.000000</td>\n",
              "      <td>20.000000</td>\n",
              "      <td>5.400000</td>\n",
              "      <td>9.000000</td>\n",
              "    </tr>\n",
              "  </tbody>\n",
              "</table>\n",
              "</div>\n",
              "      <button class=\"colab-df-convert\" onclick=\"convertToInteractive('df-ce9e5f2c-b1ac-4ccb-ab24-bd69af277862')\"\n",
              "              title=\"Convert this dataframe to an interactive table.\"\n",
              "              style=\"display:none;\">\n",
              "        \n",
              "  <svg xmlns=\"http://www.w3.org/2000/svg\" height=\"24px\"viewBox=\"0 0 24 24\"\n",
              "       width=\"24px\">\n",
              "    <path d=\"M0 0h24v24H0V0z\" fill=\"none\"/>\n",
              "    <path d=\"M18.56 5.44l.94 2.06.94-2.06 2.06-.94-2.06-.94-.94-2.06-.94 2.06-2.06.94zm-11 1L8.5 8.5l.94-2.06 2.06-.94-2.06-.94L8.5 2.5l-.94 2.06-2.06.94zm10 10l.94 2.06.94-2.06 2.06-.94-2.06-.94-.94-2.06-.94 2.06-2.06.94z\"/><path d=\"M17.41 7.96l-1.37-1.37c-.4-.4-.92-.59-1.43-.59-.52 0-1.04.2-1.43.59L10.3 9.45l-7.72 7.72c-.78.78-.78 2.05 0 2.83L4 21.41c.39.39.9.59 1.41.59.51 0 1.02-.2 1.41-.59l7.78-7.78 2.81-2.81c.8-.78.8-2.07 0-2.86zM5.41 20L4 18.59l7.72-7.72 1.47 1.35L5.41 20z\"/>\n",
              "  </svg>\n",
              "      </button>\n",
              "      \n",
              "  <style>\n",
              "    .colab-df-container {\n",
              "      display:flex;\n",
              "      flex-wrap:wrap;\n",
              "      gap: 12px;\n",
              "    }\n",
              "\n",
              "    .colab-df-convert {\n",
              "      background-color: #E8F0FE;\n",
              "      border: none;\n",
              "      border-radius: 50%;\n",
              "      cursor: pointer;\n",
              "      display: none;\n",
              "      fill: #1967D2;\n",
              "      height: 32px;\n",
              "      padding: 0 0 0 0;\n",
              "      width: 32px;\n",
              "    }\n",
              "\n",
              "    .colab-df-convert:hover {\n",
              "      background-color: #E2EBFA;\n",
              "      box-shadow: 0px 1px 2px rgba(60, 64, 67, 0.3), 0px 1px 3px 1px rgba(60, 64, 67, 0.15);\n",
              "      fill: #174EA6;\n",
              "    }\n",
              "\n",
              "    [theme=dark] .colab-df-convert {\n",
              "      background-color: #3B4455;\n",
              "      fill: #D2E3FC;\n",
              "    }\n",
              "\n",
              "    [theme=dark] .colab-df-convert:hover {\n",
              "      background-color: #434B5C;\n",
              "      box-shadow: 0px 1px 3px 1px rgba(0, 0, 0, 0.15);\n",
              "      filter: drop-shadow(0px 1px 2px rgba(0, 0, 0, 0.3));\n",
              "      fill: #FFFFFF;\n",
              "    }\n",
              "  </style>\n",
              "\n",
              "      <script>\n",
              "        const buttonEl =\n",
              "          document.querySelector('#df-ce9e5f2c-b1ac-4ccb-ab24-bd69af277862 button.colab-df-convert');\n",
              "        buttonEl.style.display =\n",
              "          google.colab.kernel.accessAllowed ? 'block' : 'none';\n",
              "\n",
              "        async function convertToInteractive(key) {\n",
              "          const element = document.querySelector('#df-ce9e5f2c-b1ac-4ccb-ab24-bd69af277862');\n",
              "          const dataTable =\n",
              "            await google.colab.kernel.invokeFunction('convertToInteractive',\n",
              "                                                     [key], {});\n",
              "          if (!dataTable) return;\n",
              "\n",
              "          const docLinkHtml = 'Like what you see? Visit the ' +\n",
              "            '<a target=\"_blank\" href=https://colab.research.google.com/notebooks/data_table.ipynb>data table notebook</a>'\n",
              "            + ' to learn more about interactive tables.';\n",
              "          element.innerHTML = '';\n",
              "          dataTable['output_type'] = 'display_data';\n",
              "          await google.colab.output.renderOutput(dataTable, element);\n",
              "          const docLink = document.createElement('div');\n",
              "          docLink.innerHTML = docLinkHtml;\n",
              "          element.appendChild(docLink);\n",
              "        }\n",
              "      </script>\n",
              "    </div>\n",
              "  </div>\n",
              "  "
            ]
          },
          "metadata": {},
          "execution_count": 44
        }
      ]
    },
    {
      "cell_type": "markdown",
      "source": [
        "***Separate the data into the features and labels***"
      ],
      "metadata": {
        "id": "QMv1A0CDbmD4"
      }
    },
    {
      "cell_type": "code",
      "source": [
        "\n",
        "X = dataset[dataset.columns.difference(['churned'])]\n",
        "Y = dataset['churned']"
      ],
      "metadata": {
        "id": "Lf1byA8Qar5h"
      },
      "execution_count": 45,
      "outputs": []
    },
    {
      "cell_type": "markdown",
      "source": [
        "***Split the data into 70% training set and 30% test set***"
      ],
      "metadata": {
        "id": "RZMXEq0Kbt4n"
      }
    },
    {
      "cell_type": "code",
      "source": [
        "X_train, X_test, Y_train, Y_test = train_test_split(X, Y, test_size=0.3)"
      ],
      "metadata": {
        "id": "iGtEYBdKavWx"
      },
      "execution_count": 46,
      "outputs": []
    },
    {
      "cell_type": "markdown",
      "source": [
        "***N-Nearest Neighbors classifier of 5 neighbors***"
      ],
      "metadata": {
        "id": "01u676Lsbz1n"
      }
    },
    {
      "cell_type": "code",
      "source": [
        "knn = KNeighborsClassifier(n_neighbors=5)"
      ],
      "metadata": {
        "id": "LL1kb_BXaziL"
      },
      "execution_count": 47,
      "outputs": []
    },
    {
      "cell_type": "markdown",
      "source": [
        "***Fit the model to the training set***"
      ],
      "metadata": {
        "id": "ZJYvjVG4b91a"
      }
    },
    {
      "cell_type": "code",
      "source": [
        "knn.fit(X, Y)"
      ],
      "metadata": {
        "colab": {
          "base_uri": "https://localhost:8080/"
        },
        "id": "KuPCqYgQa2DY",
        "outputId": "42ffe368-de2b-4b41-8cda-5dec5f42a4c3"
      },
      "execution_count": 48,
      "outputs": [
        {
          "output_type": "execute_result",
          "data": {
            "text/plain": [
              "KNeighborsClassifier()"
            ]
          },
          "metadata": {},
          "execution_count": 48
        }
      ]
    },
    {
      "cell_type": "markdown",
      "source": [
        "***Use the model to make a prediction on the test set***"
      ],
      "metadata": {
        "id": "NHC9Qy4OcDx1"
      }
    },
    {
      "cell_type": "code",
      "source": [
        "Y_pred = knn.predict(X)"
      ],
      "metadata": {
        "id": "r80MfJ70a4ha"
      },
      "execution_count": 49,
      "outputs": []
    },
    {
      "cell_type": "markdown",
      "source": [
        "***The model accuracy***"
      ],
      "metadata": {
        "id": "n_Ss2CzbcK19"
      }
    },
    {
      "cell_type": "code",
      "source": [
        "print(metrics.accuracy_score(Y, Y_pred))"
      ],
      "metadata": {
        "colab": {
          "base_uri": "https://localhost:8080/"
        },
        "id": "ZEUhqkKMa7Ya",
        "outputId": "d8921f60-bca3-4427-e2dc-e51bbb2a2528"
      },
      "execution_count": 50,
      "outputs": [
        {
          "output_type": "stream",
          "name": "stdout",
          "text": [
            "0.9014\n"
          ]
        }
      ]
    }
  ]
}